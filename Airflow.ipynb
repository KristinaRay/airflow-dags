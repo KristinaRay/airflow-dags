{
 "cells": [
  {
   "cell_type": "code",
   "execution_count": 5,
   "metadata": {},
   "outputs": [],
   "source": [
    "#pip install apache-airflow==1.10.4"
   ]
  },
  {
   "cell_type": "markdown",
   "metadata": {},
   "source": [
    "### Задача 1"
   ]
  },
  {
   "cell_type": "markdown",
   "metadata": {},
   "source": [
    "Создайте DAG c идентификатором: dummy_dag в переменной dag. Дату начала выполнения start_date укажите как dag_start_date. Создайте и назначьте в DAG один DummyOperator с task_id: dummy_operator1.\n"
   ]
  },
  {
   "cell_type": "code",
   "execution_count": null,
   "metadata": {},
   "outputs": [],
   "source": [
    "from airflow.models import DAG\n",
    "from airflow.operators.dummy_operator import DummyOperator\n",
    "\n",
    "dag = DAG(dag_id='dummy_dag',\n",
    "          start_date=dag_start_date,\n",
    "          schedule_interval='@once')\n",
    "t1 = DummyOperator(task_id='dummy_operator1', dag=dag)\n"
   ]
  },
  {
   "cell_type": "markdown",
   "metadata": {},
   "source": [
    "### Задача 2"
   ]
  },
  {
   "cell_type": "markdown",
   "metadata": {},
   "source": [
    "Создайте DAG c идентификатором: dummy_dag в переменной dag. Дату начала выполнения start_date укажите как dag_start_date. Создайте и назначьте в DAG три DummyOperator с task_id: dummy_operator1, dummy_operator2, dummy_operator3.\n",
    "И определите следующий порядок выполнения:"
   ]
  },
  {
   "cell_type": "markdown",
   "metadata": {},
   "source": [
    "<img src=\"https://ucarecdn.com/a29eb9dd-88aa-4f39-b1d7-f863379a9fd8/image.png\" width=\"800\" height=\"400\">"
   ]
  },
  {
   "cell_type": "code",
   "execution_count": null,
   "metadata": {},
   "outputs": [],
   "source": [
    "from airflow.models import DAG\n",
    "from airflow.operators.dummy_operator import DummyOperator\n",
    "\n",
    "dag = DAG(dag_id='dummy_dag',\n",
    "          start_date=dag_start_date,\n",
    "          schedule_interval='@once')\n",
    "t1 = DummyOperator(task_id='dummy_operator1', dag=dag)\n",
    "t2 = DummyOperator(task_id='dummy_operator2', dag=dag)\n",
    "t3 = DummyOperator(task_id='dummy_operator3', dag=dag)\n",
    "t1 >> t2 >> t3\n"
   ]
  },
  {
   "cell_type": "markdown",
   "metadata": {},
   "source": [
    "### Задача 3"
   ]
  },
  {
   "cell_type": "markdown",
   "metadata": {},
   "source": [
    "Создайте DAG c идентификатором: task_dag в переменной dag. Дату начала выполнения start_date укажите как dag_start_date.\n",
    "Создайте и назначьте в DAG пять DummyOperator с task_id: task1, task2, task3, task4, task5.\n",
    "И определите следующий порядок выполнения:\n",
    "\n",
    "<img src=\"https://ucarecdn.com/63c95031-5d3f-4f04-a016-ce8cdab600ca/image.png\" width=\"800\" height=\"400\">"
   ]
  },
  {
   "cell_type": "code",
   "execution_count": null,
   "metadata": {},
   "outputs": [],
   "source": [
    "from airflow.models import DAG\n",
    "from airflow.operators.dummy_operator import DummyOperator\n",
    "\n",
    "dag = DAG(dag_id='task_dag',\n",
    "          start_date=dag_start_date,\n",
    "          schedule_interval='@once')\n",
    "t1 = DummyOperator(task_id='task1', dag=dag)\n",
    "t2 = DummyOperator(task_id='task2', dag=dag)\n",
    "t3 = DummyOperator(task_id='task3', dag=dag)\n",
    "t4 = DummyOperator(task_id='task4', dag=dag)\n",
    "t5 = DummyOperator(task_id='task5', dag=dag)\n",
    "t1 >> t2 >> t3 >> t5\n",
    "t1 >> t4 >> t5\n"
   ]
  },
  {
   "cell_type": "markdown",
   "metadata": {},
   "source": [
    "### Задача 4"
   ]
  },
  {
   "cell_type": "markdown",
   "metadata": {},
   "source": [
    "Создайте DAG c идентификатором: hi_dag в переменной dag, установите дату начала выполнения как 30-11-2019.\n",
    "Создайте и назначьте в DAG PythonOperator с task_id: task1. Задача должна вызывать метод с именем hello, который возвращает фразу \"Hello world!\"."
   ]
  },
  {
   "cell_type": "code",
   "execution_count": null,
   "metadata": {},
   "outputs": [],
   "source": [
    "from airflow.models import DAG\n",
    "from datetime import datetime\n",
    "from airflow.operators.python_operator import PythonOperator\n",
    "\n",
    "def hello():\n",
    "    return \"Hello world!\"\n",
    "dag = DAG(dag_id='hi_dag',\n",
    "          start_date=datetime(2019, 11, 30),\n",
    "          schedule_interval='@once')\n",
    "t1 = PythonOperator(task_id='task1', python_callable=hello, dag=dag)\n"
   ]
  },
  {
   "cell_type": "markdown",
   "metadata": {},
   "source": [
    "### Задача 5"
   ]
  },
  {
   "cell_type": "markdown",
   "metadata": {},
   "source": [
    "Создайте DAG c идентификатором: prepare_dag в переменной dag, установите дату начала выполнения как 21-11-2019.\n",
    "Создайте и назначьте в DAG три BashOperator с task_id: init, prepare_train, prepare_test.\n",
    "* init - вызывает bash-скрипт /usr/bin/init.sh\n",
    "* prepare_train - вызывает bash-скрипт /usr/bin/prepare_train.sh\n",
    "* prepare_test - вызывает bash-скрипт /usr/bin/prepare_test.sh\n",
    "Порядок выполнения:\n",
    "\n",
    "<img src=\"https://ucarecdn.com/f2f1058e-0c6c-46f3-b4a7-57b0484abcfe/image.png\" width=\"800\" height=\"400\">\n"
   ]
  },
  {
   "cell_type": "code",
   "execution_count": null,
   "metadata": {},
   "outputs": [],
   "source": [
    "from airflow.models import DAG\n",
    "from airflow.operators.bash_operator import BashOperator\n",
    "\n",
    "\n",
    "dag = DAG(dag_id='prepare_dag',\n",
    "          start_date=datetime(2019, 11, 21),\n",
    "          schedule_interval='@once')\n",
    "t1 = BashOperator(task_id='init',bash_command='/usr/bin/init.sh', dag=dag)\n",
    "t2 = BashOperator(task_id='prepare_train',bash_command='/usr/bin/prepare_train.sh', dag=dag)\n",
    "t3 = BashOperator(task_id='prepare_test',bash_command='/usr/bin/prepare_test.sh', dag=dag)\n",
    "\n",
    "t1 >> t2\n",
    "t1 >> t3\n"
   ]
  },
  {
   "cell_type": "markdown",
   "metadata": {},
   "source": [
    "### Задача 6"
   ]
  },
  {
   "cell_type": "markdown",
   "metadata": {},
   "source": [
    "Создайте DAG c идентификатором: task_dag в переменной dag. Дату начала выполнения укажите как 30-12-2019.\n",
    "Создайте и назначьте в DAG пять DummyOperator с task_id: task1, task2, task3, task4, task5.\n",
    "И определите следующий порядок выполнения:\n",
    "\n",
    "\n",
    "<img src=\"https://ucarecdn.com/3d948cca-3676-450b-8e29-334a3afbb2b3/image.png\" width=\"800\" height=\"400\">\n"
   ]
  },
  {
   "cell_type": "markdown",
   "metadata": {},
   "source": [
    "При этом задача task5 должна выполняться, если успешно выполнилась хотя бы одна из предыдущих задач.\n"
   ]
  },
  {
   "cell_type": "code",
   "execution_count": null,
   "metadata": {},
   "outputs": [],
   "source": [
    "from airflow.models import DAG\n",
    "from airflow.operators.dummy_operator import DummyOperator\n",
    "from airflow.utils.trigger_rule import TriggerRule\n",
    "\n",
    "dag = DAG(dag_id='task_dag',\n",
    "          start_date=datetime(2019, 12, 30),\n",
    "          schedule_interval='@once')\n",
    "t1 = DummyOperator(task_id='task1', dag=dag)\n",
    "t2 = DummyOperator(task_id='task2', dag=dag)\n",
    "t3 = DummyOperator(task_id='task3', dag=dag)\n",
    "t4 = DummyOperator(task_id='task4', dag=dag)\n",
    "t5 = DummyOperator(task_id='task5', trigger_rule=TriggerRule.ONE_SUCCESS, dag=dag)\n",
    "\n",
    "t1 >> t2 >> t5\n",
    "t1 >> t3 >> t5\n",
    "t1 >> t4 >> t5\n"
   ]
  },
  {
   "cell_type": "markdown",
   "metadata": {},
   "source": [
    "### Задача 7"
   ]
  },
  {
   "cell_type": "markdown",
   "metadata": {},
   "source": [
    "Создайте DAG c идентификатором: trigger_dag в переменной dag, установите дату начала выполнения как 01-12-2019,\n",
    "а в расписании '@once'.\n",
    "Создайте и назначьте в DAG два TriggerDagRunOperator с task_id: trigger_job1, trigger_job2, так что:\n",
    "* trigger_job1 - вызывает job1_dag DAG.\n",
    "* trigger_job2 - вызывает job2_dag DAG.\n",
    "\n",
    "И обе эти задачи выполняются параллельно."
   ]
  },
  {
   "cell_type": "code",
   "execution_count": null,
   "metadata": {},
   "outputs": [],
   "source": [
    "from airflow.models import DAG\n",
    "from airflow.operators.dagrun_operator import TriggerDagRunOperator\n",
    "\n",
    "dag = DAG(dag_id='trigger_dag',\n",
    "          start_date=datetime(2019, 12, 1),\n",
    "          schedule_interval='@once')\n",
    "t1 = TriggerDagRunOperator(task_id='trigger_job1', trigger_dag_id='job1_dag', dag=dag)\n",
    "t2 = TriggerDagRunOperator(task_id='trigger_job2', trigger_dag_id='job2_dag', dag=dag)\n"
   ]
  },
  {
   "cell_type": "markdown",
   "metadata": {},
   "source": [
    "### Задача 8"
   ]
  },
  {
   "cell_type": "markdown",
   "metadata": {},
   "source": [
    "Создайте DAG c идентификатором: spark_submit_dag в переменной dag.\n",
    "Дату начала выполнения start_date укажите как 1-12-2019 и ежедневное выполнение по расписанию '@daily'. \n",
    "Создайте и назначьте в DAG один SparkSubmitOperator с task_id: spark_submit,\n",
    "который будет запускать Spark приложение из файла PySparkJob.py с аргументами input.csv и output.csv,\n",
    "используя соединение 'spark_default'.\n"
   ]
  },
  {
   "cell_type": "code",
   "execution_count": null,
   "metadata": {},
   "outputs": [],
   "source": [
    "from airflow.models import DAG\n",
    "from airflow.contrib.operators.spark_submit_operator import SparkSubmitOperator\n",
    "\n",
    "dag = DAG(dag_id='spark_submit_dag',\n",
    "          start_date=datetime(2019, 12, 1),\n",
    "          schedule_interval='@daily')\n",
    "t = SparkSubmitOperator(task_id='spark_submit', application='PySparkJob.py',\n",
    "                        conn_id='spark_default', application_args=['input.csv','output.csv'], dag=dag)\n",
    "\n"
   ]
  }
 ],
 "metadata": {
  "kernelspec": {
   "display_name": "Python 3",
   "language": "python",
   "name": "python3"
  },
  "language_info": {
   "codemirror_mode": {
    "name": "ipython",
    "version": 3
   },
   "file_extension": ".py",
   "mimetype": "text/x-python",
   "name": "python",
   "nbconvert_exporter": "python",
   "pygments_lexer": "ipython3",
   "version": "3.9.1"
  }
 },
 "nbformat": 4,
 "nbformat_minor": 4
}
